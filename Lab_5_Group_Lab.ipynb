{
  "cells": [
    {
      "cell_type": "markdown",
      "source": [
        "# eCommerce behavior data from multi category store\n",
        "This dataset contains 285 million users' events from eCommerce website\n",
        "\n",
        "[**Dataset**: eCommerce behavior data from multi category store](https://www.kaggle.com/datasets/mkechinov/ecommerce-behavior-data-from-multi-category-store)\n",
        "\n",
        "**More datasets**\n",
        "Due to Kaggle's limit to max 20Gb of files per dataset, I can' upload more data to this dataset. [Here you can find additional archives (Dec 2019 - Apr 2020)](https://drive.google.com/drive/folders/1Nan8X33H8xrXS5XhCKZmSpClFTCJsSpE)."
      ],
      "metadata": {
        "id": "tg6MByKJ1res"
      },
      "id": "tg6MByKJ1res"
    },
    {
      "cell_type": "markdown",
      "source": [
        "**Group Lab**\n",
        "\n",
        "\n",
        "1.   NURARISSA DAYANA BINTI MOHD SUKRI A20EC0120\n",
        "2.   SAKINAH AL'IZZAH BINTI MOHD ASRI A20EC0142\n",
        "\n"
      ],
      "metadata": {
        "id": "iShraFK_H-Wl"
      },
      "id": "iShraFK_H-Wl"
    },
    {
      "cell_type": "markdown",
      "source": [
        "Installing packages"
      ],
      "metadata": {
        "id": "K_5kUgXI4vZm"
      },
      "id": "K_5kUgXI4vZm"
    },
    {
      "cell_type": "code",
      "source": [
        "\n",
        "!pip install squarify\n",
        "!pip install statsmodels\n",
        "!pip install seaborn\n",
        "!pip install xgboost"
      ],
      "metadata": {
        "id": "4qMGgWA64RXm",
        "colab": {
          "base_uri": "https://localhost:8080/"
        },
        "outputId": "4474b23f-cf51-4273-f26b-25e8a2c3ee8a"
      },
      "id": "4qMGgWA64RXm",
      "execution_count": null,
      "outputs": [
        {
          "output_type": "stream",
          "name": "stdout",
          "text": [
            "Looking in indexes: https://pypi.org/simple, https://us-python.pkg.dev/colab-wheels/public/simple/\n",
            "Requirement already satisfied: squarify in /usr/local/lib/python3.8/dist-packages (0.4.3)\n",
            "Looking in indexes: https://pypi.org/simple, https://us-python.pkg.dev/colab-wheels/public/simple/\n",
            "Requirement already satisfied: statsmodels in /usr/local/lib/python3.8/dist-packages (0.12.2)\n",
            "Requirement already satisfied: scipy>=1.1 in /usr/local/lib/python3.8/dist-packages (from statsmodels) (1.7.3)\n",
            "Requirement already satisfied: numpy>=1.15 in /usr/local/lib/python3.8/dist-packages (from statsmodels) (1.21.6)\n",
            "Requirement already satisfied: patsy>=0.5 in /usr/local/lib/python3.8/dist-packages (from statsmodels) (0.5.3)\n",
            "Requirement already satisfied: pandas>=0.21 in /usr/local/lib/python3.8/dist-packages (from statsmodels) (1.3.5)\n",
            "Requirement already satisfied: python-dateutil>=2.7.3 in /usr/local/lib/python3.8/dist-packages (from pandas>=0.21->statsmodels) (2.8.2)\n",
            "Requirement already satisfied: pytz>=2017.3 in /usr/local/lib/python3.8/dist-packages (from pandas>=0.21->statsmodels) (2022.6)\n",
            "Requirement already satisfied: six in /usr/local/lib/python3.8/dist-packages (from patsy>=0.5->statsmodels) (1.15.0)\n",
            "Looking in indexes: https://pypi.org/simple, https://us-python.pkg.dev/colab-wheels/public/simple/\n",
            "Requirement already satisfied: seaborn in /usr/local/lib/python3.8/dist-packages (0.11.2)\n",
            "Requirement already satisfied: scipy>=1.0 in /usr/local/lib/python3.8/dist-packages (from seaborn) (1.7.3)\n",
            "Requirement already satisfied: matplotlib>=2.2 in /usr/local/lib/python3.8/dist-packages (from seaborn) (3.2.2)\n",
            "Requirement already satisfied: numpy>=1.15 in /usr/local/lib/python3.8/dist-packages (from seaborn) (1.21.6)\n",
            "Requirement already satisfied: pandas>=0.23 in /usr/local/lib/python3.8/dist-packages (from seaborn) (1.3.5)\n",
            "Requirement already satisfied: pyparsing!=2.0.4,!=2.1.2,!=2.1.6,>=2.0.1 in /usr/local/lib/python3.8/dist-packages (from matplotlib>=2.2->seaborn) (3.0.9)\n",
            "Requirement already satisfied: cycler>=0.10 in /usr/local/lib/python3.8/dist-packages (from matplotlib>=2.2->seaborn) (0.11.0)\n",
            "Requirement already satisfied: kiwisolver>=1.0.1 in /usr/local/lib/python3.8/dist-packages (from matplotlib>=2.2->seaborn) (1.4.4)\n",
            "Requirement already satisfied: python-dateutil>=2.1 in /usr/local/lib/python3.8/dist-packages (from matplotlib>=2.2->seaborn) (2.8.2)\n",
            "Requirement already satisfied: pytz>=2017.3 in /usr/local/lib/python3.8/dist-packages (from pandas>=0.23->seaborn) (2022.6)\n",
            "Requirement already satisfied: six>=1.5 in /usr/local/lib/python3.8/dist-packages (from python-dateutil>=2.1->matplotlib>=2.2->seaborn) (1.15.0)\n",
            "Looking in indexes: https://pypi.org/simple, https://us-python.pkg.dev/colab-wheels/public/simple/\n",
            "Requirement already satisfied: xgboost in /usr/local/lib/python3.8/dist-packages (0.90)\n",
            "Requirement already satisfied: numpy in /usr/local/lib/python3.8/dist-packages (from xgboost) (1.21.6)\n",
            "Requirement already satisfied: scipy in /usr/local/lib/python3.8/dist-packages (from xgboost) (1.7.3)\n"
          ]
        }
      ]
    },
    {
      "cell_type": "code",
      "source": [
        "! pip install -q kaggle"
      ],
      "metadata": {
        "id": "5Y9g9bS6I1P4"
      },
      "id": "5Y9g9bS6I1P4",
      "execution_count": null,
      "outputs": []
    },
    {
      "cell_type": "code",
      "source": [
        "from google.colab import files\n",
        "\n",
        "files.upload()"
      ],
      "metadata": {
        "colab": {
          "base_uri": "https://localhost:8080/",
          "height": 90
        },
        "id": "1UE0xGYyKA_W",
        "outputId": "600432b9-f163-4877-9c67-2d15d0434565"
      },
      "id": "1UE0xGYyKA_W",
      "execution_count": null,
      "outputs": [
        {
          "output_type": "display_data",
          "data": {
            "text/plain": [
              "<IPython.core.display.HTML object>"
            ],
            "text/html": [
              "\n",
              "     <input type=\"file\" id=\"files-57507e6f-57bd-4ba0-9f0e-98d355f481fd\" name=\"files[]\" multiple disabled\n",
              "        style=\"border:none\" />\n",
              "     <output id=\"result-57507e6f-57bd-4ba0-9f0e-98d355f481fd\">\n",
              "      Upload widget is only available when the cell has been executed in the\n",
              "      current browser session. Please rerun this cell to enable.\n",
              "      </output>\n",
              "      <script>// Copyright 2017 Google LLC\n",
              "//\n",
              "// Licensed under the Apache License, Version 2.0 (the \"License\");\n",
              "// you may not use this file except in compliance with the License.\n",
              "// You may obtain a copy of the License at\n",
              "//\n",
              "//      http://www.apache.org/licenses/LICENSE-2.0\n",
              "//\n",
              "// Unless required by applicable law or agreed to in writing, software\n",
              "// distributed under the License is distributed on an \"AS IS\" BASIS,\n",
              "// WITHOUT WARRANTIES OR CONDITIONS OF ANY KIND, either express or implied.\n",
              "// See the License for the specific language governing permissions and\n",
              "// limitations under the License.\n",
              "\n",
              "/**\n",
              " * @fileoverview Helpers for google.colab Python module.\n",
              " */\n",
              "(function(scope) {\n",
              "function span(text, styleAttributes = {}) {\n",
              "  const element = document.createElement('span');\n",
              "  element.textContent = text;\n",
              "  for (const key of Object.keys(styleAttributes)) {\n",
              "    element.style[key] = styleAttributes[key];\n",
              "  }\n",
              "  return element;\n",
              "}\n",
              "\n",
              "// Max number of bytes which will be uploaded at a time.\n",
              "const MAX_PAYLOAD_SIZE = 100 * 1024;\n",
              "\n",
              "function _uploadFiles(inputId, outputId) {\n",
              "  const steps = uploadFilesStep(inputId, outputId);\n",
              "  const outputElement = document.getElementById(outputId);\n",
              "  // Cache steps on the outputElement to make it available for the next call\n",
              "  // to uploadFilesContinue from Python.\n",
              "  outputElement.steps = steps;\n",
              "\n",
              "  return _uploadFilesContinue(outputId);\n",
              "}\n",
              "\n",
              "// This is roughly an async generator (not supported in the browser yet),\n",
              "// where there are multiple asynchronous steps and the Python side is going\n",
              "// to poll for completion of each step.\n",
              "// This uses a Promise to block the python side on completion of each step,\n",
              "// then passes the result of the previous step as the input to the next step.\n",
              "function _uploadFilesContinue(outputId) {\n",
              "  const outputElement = document.getElementById(outputId);\n",
              "  const steps = outputElement.steps;\n",
              "\n",
              "  const next = steps.next(outputElement.lastPromiseValue);\n",
              "  return Promise.resolve(next.value.promise).then((value) => {\n",
              "    // Cache the last promise value to make it available to the next\n",
              "    // step of the generator.\n",
              "    outputElement.lastPromiseValue = value;\n",
              "    return next.value.response;\n",
              "  });\n",
              "}\n",
              "\n",
              "/**\n",
              " * Generator function which is called between each async step of the upload\n",
              " * process.\n",
              " * @param {string} inputId Element ID of the input file picker element.\n",
              " * @param {string} outputId Element ID of the output display.\n",
              " * @return {!Iterable<!Object>} Iterable of next steps.\n",
              " */\n",
              "function* uploadFilesStep(inputId, outputId) {\n",
              "  const inputElement = document.getElementById(inputId);\n",
              "  inputElement.disabled = false;\n",
              "\n",
              "  const outputElement = document.getElementById(outputId);\n",
              "  outputElement.innerHTML = '';\n",
              "\n",
              "  const pickedPromise = new Promise((resolve) => {\n",
              "    inputElement.addEventListener('change', (e) => {\n",
              "      resolve(e.target.files);\n",
              "    });\n",
              "  });\n",
              "\n",
              "  const cancel = document.createElement('button');\n",
              "  inputElement.parentElement.appendChild(cancel);\n",
              "  cancel.textContent = 'Cancel upload';\n",
              "  const cancelPromise = new Promise((resolve) => {\n",
              "    cancel.onclick = () => {\n",
              "      resolve(null);\n",
              "    };\n",
              "  });\n",
              "\n",
              "  // Wait for the user to pick the files.\n",
              "  const files = yield {\n",
              "    promise: Promise.race([pickedPromise, cancelPromise]),\n",
              "    response: {\n",
              "      action: 'starting',\n",
              "    }\n",
              "  };\n",
              "\n",
              "  cancel.remove();\n",
              "\n",
              "  // Disable the input element since further picks are not allowed.\n",
              "  inputElement.disabled = true;\n",
              "\n",
              "  if (!files) {\n",
              "    return {\n",
              "      response: {\n",
              "        action: 'complete',\n",
              "      }\n",
              "    };\n",
              "  }\n",
              "\n",
              "  for (const file of files) {\n",
              "    const li = document.createElement('li');\n",
              "    li.append(span(file.name, {fontWeight: 'bold'}));\n",
              "    li.append(span(\n",
              "        `(${file.type || 'n/a'}) - ${file.size} bytes, ` +\n",
              "        `last modified: ${\n",
              "            file.lastModifiedDate ? file.lastModifiedDate.toLocaleDateString() :\n",
              "                                    'n/a'} - `));\n",
              "    const percent = span('0% done');\n",
              "    li.appendChild(percent);\n",
              "\n",
              "    outputElement.appendChild(li);\n",
              "\n",
              "    const fileDataPromise = new Promise((resolve) => {\n",
              "      const reader = new FileReader();\n",
              "      reader.onload = (e) => {\n",
              "        resolve(e.target.result);\n",
              "      };\n",
              "      reader.readAsArrayBuffer(file);\n",
              "    });\n",
              "    // Wait for the data to be ready.\n",
              "    let fileData = yield {\n",
              "      promise: fileDataPromise,\n",
              "      response: {\n",
              "        action: 'continue',\n",
              "      }\n",
              "    };\n",
              "\n",
              "    // Use a chunked sending to avoid message size limits. See b/62115660.\n",
              "    let position = 0;\n",
              "    do {\n",
              "      const length = Math.min(fileData.byteLength - position, MAX_PAYLOAD_SIZE);\n",
              "      const chunk = new Uint8Array(fileData, position, length);\n",
              "      position += length;\n",
              "\n",
              "      const base64 = btoa(String.fromCharCode.apply(null, chunk));\n",
              "      yield {\n",
              "        response: {\n",
              "          action: 'append',\n",
              "          file: file.name,\n",
              "          data: base64,\n",
              "        },\n",
              "      };\n",
              "\n",
              "      let percentDone = fileData.byteLength === 0 ?\n",
              "          100 :\n",
              "          Math.round((position / fileData.byteLength) * 100);\n",
              "      percent.textContent = `${percentDone}% done`;\n",
              "\n",
              "    } while (position < fileData.byteLength);\n",
              "  }\n",
              "\n",
              "  // All done.\n",
              "  yield {\n",
              "    response: {\n",
              "      action: 'complete',\n",
              "    }\n",
              "  };\n",
              "}\n",
              "\n",
              "scope.google = scope.google || {};\n",
              "scope.google.colab = scope.google.colab || {};\n",
              "scope.google.colab._files = {\n",
              "  _uploadFiles,\n",
              "  _uploadFilesContinue,\n",
              "};\n",
              "})(self);\n",
              "</script> "
            ]
          },
          "metadata": {}
        },
        {
          "output_type": "stream",
          "name": "stdout",
          "text": [
            "Saving kaggle.json to kaggle (1).json\n"
          ]
        },
        {
          "output_type": "execute_result",
          "data": {
            "text/plain": [
              "{'kaggle.json': b'{\"username\":\"nurarissadayana\",\"key\":\"873d54d89b02787fd07541f2784873aa\"}'}"
            ]
          },
          "metadata": {},
          "execution_count": 4
        }
      ]
    },
    {
      "cell_type": "code",
      "source": [
        "! mkdir ~/.kaggle\n",
        "! cp kaggle.json ~/.kaggle/\n",
        "! chmod 600 ~/.kaggle/kaggle.json\n",
        "! kaggle datasets download -d mkechinov/ecommerce-behavior-data-from-multi-category-store"
      ],
      "metadata": {
        "colab": {
          "base_uri": "https://localhost:8080/"
        },
        "id": "38sUptYDKMNl",
        "outputId": "819d5c1a-1485-49fe-8756-0c9af2eef259"
      },
      "id": "38sUptYDKMNl",
      "execution_count": null,
      "outputs": [
        {
          "output_type": "stream",
          "name": "stdout",
          "text": [
            "mkdir: cannot create directory ‘/root/.kaggle’: File exists\n",
            "ecommerce-behavior-data-from-multi-category-store.zip: Skipping, found more recently modified local copy (use --force to force download)\n"
          ]
        }
      ]
    },
    {
      "cell_type": "code",
      "source": [
        "!unzip ecommerce-behavior-data-from-multi-category-store.zip"
      ],
      "metadata": {
        "colab": {
          "base_uri": "https://localhost:8080/"
        },
        "id": "xSGWy1OKLQDX",
        "outputId": "7e93c1ec-7b61-4929-f96d-fbf322719c3b"
      },
      "id": "xSGWy1OKLQDX",
      "execution_count": null,
      "outputs": [
        {
          "output_type": "stream",
          "name": "stdout",
          "text": [
            "Archive:  ecommerce-behavior-data-from-multi-category-store.zip\n",
            "replace 2019-Nov.csv? [y]es, [n]o, [A]ll, [N]one, [r]ename: n\n",
            "replace 2019-Oct.csv? [y]es, [n]o, [A]ll, [N]one, [r]ename: n\n"
          ]
        }
      ]
    },
    {
      "cell_type": "markdown",
      "source": [
        "importing libraries"
      ],
      "metadata": {
        "id": "32e1SjjR4rR3"
      },
      "id": "32e1SjjR4rR3"
    },
    {
      "cell_type": "code",
      "source": [
        "\n",
        "import numpy as np \n",
        "import pandas as pd \n",
        "import os\n",
        "from statsmodels import api as sm\n",
        "import pylab as py\n",
        "import matplotlib.pyplot as plt\n",
        "import matplotlib.dates as dates\n",
        "from datetime import datetime\n",
        "import matplotlib.ticker as ticker\n",
        "import matplotlib.cm as cm\n",
        "import matplotlib as mpl\n",
        "from matplotlib.gridspec import GridSpec\n",
        "import seaborn as sns\n",
        "import squarify\n",
        "from scipy.stats import kstest,norm\n",
        "from scipy.stats import norm\n",
        "from sklearn.preprocessing import LabelEncoder\n",
        "from sklearn.preprocessing import MinMaxScaler\n",
        "from sklearn.model_selection import train_test_split\n",
        "from xgboost import plot_importance\n",
        "from sklearn.utils import resample\n",
        "from sklearn import metrics\n",
        "from scipy.stats import chi2_contingency"
      ],
      "metadata": {
        "id": "09gQeF6C4lC5"
      },
      "id": "09gQeF6C4lC5",
      "execution_count": null,
      "outputs": []
    },
    {
      "cell_type": "markdown",
      "source": [
        "## Reduce memory usage"
      ],
      "metadata": {
        "id": "0FiY-AEg5SmK"
      },
      "id": "0FiY-AEg5SmK"
    },
    {
      "cell_type": "code",
      "source": [
        "def reduce_mem_usage(df, verbose=True):\n",
        "    numerics = ['int16', 'int32', 'int64', 'float16', 'float32', 'float64']\n",
        "    start_mem = df.memory_usage().sum() / 1024**2\n",
        "    for col in df.columns:\n",
        "        col_type = df[col].dtypes\n",
        "        if col_type in numerics:\n",
        "            c_min = df[col].min()\n",
        "            c_max = df[col].max()\n",
        "            if str(col_type)[:3] == 'int':\n",
        "                if c_min > np.iinfo(np.int8).min and c_max < np.iinfo(np.int8).max:\n",
        "                    df[col] = df[col].astype(np.int8)\n",
        "                elif c_min > np.iinfo(np.int16).min and c_max < np.iinfo(np.int16).max:\n",
        "                    df[col] = df[col].astype(np.int16)\n",
        "                elif c_min > np.iinfo(np.int32).min and c_max < np.iinfo(np.int32).max:\n",
        "                    df[col] = df[col].astype(np.int32)\n",
        "                elif c_min > np.iinfo(np.int64).min and c_max < np.iinfo(np.int64).max:\n",
        "                    df[col] = df[col].astype(np.int64)\n",
        "            else:\n",
        "                if c_min > np.finfo(np.float16).min and c_max < np.finfo(np.float16).max:\n",
        "                    df[col] = df[col].astype(np.float16)\n",
        "                elif c_min > np.finfo(np.float32).min and c_max < np.finfo(np.float32).max:\n",
        "                    df[col] = df[col].astype(np.float32)\n",
        "                else:\n",
        "                    df[col] = df[col].astype(np.float64)\n",
        "\n",
        "    end_mem = df.memory_usage().sum() / 1024**2\n",
        "    print('Memory usage after optimization is: {:.2f} MB'.format(end_mem))\n",
        "    print('Decreased by {:.1f}%'.format(100 * (start_mem - end_mem) / start_mem))\n",
        "\n",
        "    return df"
      ],
      "metadata": {
        "id": "FmouSVw15N0a"
      },
      "id": "FmouSVw15N0a",
      "execution_count": null,
      "outputs": []
    },
    {
      "cell_type": "markdown",
      "source": [
        "Please enter the file location and name."
      ],
      "metadata": {
        "id": "6lrCp3lc3A62"
      },
      "id": "6lrCp3lc3A62"
    },
    {
      "cell_type": "code",
      "source": [
        "df = pd.read_csv('2019-Nov.csv')\n",
        "df=reduce_mem_usage(df)"
      ],
      "metadata": {
        "id": "xC-ZqIJA52LI",
        "colab": {
          "base_uri": "https://localhost:8080/"
        },
        "outputId": "9ea4354e-8a65-49f8-e907-4aeb15fbef4f"
      },
      "id": "xC-ZqIJA52LI",
      "execution_count": null,
      "outputs": [
        {
          "output_type": "stream",
          "name": "stdout",
          "text": [
            "Memory usage after optimization is: 2039.40 MB\n",
            "Decreased by 19.4%\n"
          ]
        }
      ]
    },
    {
      "cell_type": "code",
      "source": [
        "df.head()"
      ],
      "metadata": {
        "id": "drM9z0OS6rf2",
        "colab": {
          "base_uri": "https://localhost:8080/",
          "height": 250
        },
        "outputId": "24f68274-06f7-4557-da88-cd39f9adbecf"
      },
      "id": "drM9z0OS6rf2",
      "execution_count": null,
      "outputs": [
        {
          "output_type": "execute_result",
          "data": {
            "text/plain": [
              "                event_time event_type  product_id          category_id  \\\n",
              "0  2019-11-01 00:00:00 UTC       view     1003461  2053013555631882655   \n",
              "1  2019-11-01 00:00:00 UTC       view     5000088  2053013566100866035   \n",
              "2  2019-11-01 00:00:01 UTC       view    17302664  2053013553853497655   \n",
              "3  2019-11-01 00:00:01 UTC       view     3601530  2053013563810775923   \n",
              "4  2019-11-01 00:00:01 UTC       view     1004775  2053013555631882655   \n",
              "\n",
              "               category_code   brand     price    user_id  \\\n",
              "0     electronics.smartphone  xiaomi  489.0000  520088904   \n",
              "1  appliances.sewing_machine  janome  293.7500  530496790   \n",
              "2                        NaN   creed   28.3125  561587266   \n",
              "3  appliances.kitchen.washer      lg  713.0000  518085591   \n",
              "4     electronics.smartphone  xiaomi  183.2500  558856683   \n",
              "\n",
              "                           user_session  \n",
              "0  4d3b30da-a5e4-49df-b1a8-ba5943f1dd33  \n",
              "1  8e5f4f83-366c-4f70-860e-ca7417414283  \n",
              "2  755422e7-9040-477b-9bd2-6a6e8fd97387  \n",
              "3  3bfb58cd-7892-48cc-8020-2f17e6de6e7f  \n",
              "4  313628f1-68b8-460d-84f6-cec7a8796ef2  "
            ],
            "text/html": [
              "\n",
              "  <div id=\"df-cb9e5804-7fe5-40e6-ae8c-33e6df233fad\">\n",
              "    <div class=\"colab-df-container\">\n",
              "      <div>\n",
              "<style scoped>\n",
              "    .dataframe tbody tr th:only-of-type {\n",
              "        vertical-align: middle;\n",
              "    }\n",
              "\n",
              "    .dataframe tbody tr th {\n",
              "        vertical-align: top;\n",
              "    }\n",
              "\n",
              "    .dataframe thead th {\n",
              "        text-align: right;\n",
              "    }\n",
              "</style>\n",
              "<table border=\"1\" class=\"dataframe\">\n",
              "  <thead>\n",
              "    <tr style=\"text-align: right;\">\n",
              "      <th></th>\n",
              "      <th>event_time</th>\n",
              "      <th>event_type</th>\n",
              "      <th>product_id</th>\n",
              "      <th>category_id</th>\n",
              "      <th>category_code</th>\n",
              "      <th>brand</th>\n",
              "      <th>price</th>\n",
              "      <th>user_id</th>\n",
              "      <th>user_session</th>\n",
              "    </tr>\n",
              "  </thead>\n",
              "  <tbody>\n",
              "    <tr>\n",
              "      <th>0</th>\n",
              "      <td>2019-11-01 00:00:00 UTC</td>\n",
              "      <td>view</td>\n",
              "      <td>1003461</td>\n",
              "      <td>2053013555631882655</td>\n",
              "      <td>electronics.smartphone</td>\n",
              "      <td>xiaomi</td>\n",
              "      <td>489.0000</td>\n",
              "      <td>520088904</td>\n",
              "      <td>4d3b30da-a5e4-49df-b1a8-ba5943f1dd33</td>\n",
              "    </tr>\n",
              "    <tr>\n",
              "      <th>1</th>\n",
              "      <td>2019-11-01 00:00:00 UTC</td>\n",
              "      <td>view</td>\n",
              "      <td>5000088</td>\n",
              "      <td>2053013566100866035</td>\n",
              "      <td>appliances.sewing_machine</td>\n",
              "      <td>janome</td>\n",
              "      <td>293.7500</td>\n",
              "      <td>530496790</td>\n",
              "      <td>8e5f4f83-366c-4f70-860e-ca7417414283</td>\n",
              "    </tr>\n",
              "    <tr>\n",
              "      <th>2</th>\n",
              "      <td>2019-11-01 00:00:01 UTC</td>\n",
              "      <td>view</td>\n",
              "      <td>17302664</td>\n",
              "      <td>2053013553853497655</td>\n",
              "      <td>NaN</td>\n",
              "      <td>creed</td>\n",
              "      <td>28.3125</td>\n",
              "      <td>561587266</td>\n",
              "      <td>755422e7-9040-477b-9bd2-6a6e8fd97387</td>\n",
              "    </tr>\n",
              "    <tr>\n",
              "      <th>3</th>\n",
              "      <td>2019-11-01 00:00:01 UTC</td>\n",
              "      <td>view</td>\n",
              "      <td>3601530</td>\n",
              "      <td>2053013563810775923</td>\n",
              "      <td>appliances.kitchen.washer</td>\n",
              "      <td>lg</td>\n",
              "      <td>713.0000</td>\n",
              "      <td>518085591</td>\n",
              "      <td>3bfb58cd-7892-48cc-8020-2f17e6de6e7f</td>\n",
              "    </tr>\n",
              "    <tr>\n",
              "      <th>4</th>\n",
              "      <td>2019-11-01 00:00:01 UTC</td>\n",
              "      <td>view</td>\n",
              "      <td>1004775</td>\n",
              "      <td>2053013555631882655</td>\n",
              "      <td>electronics.smartphone</td>\n",
              "      <td>xiaomi</td>\n",
              "      <td>183.2500</td>\n",
              "      <td>558856683</td>\n",
              "      <td>313628f1-68b8-460d-84f6-cec7a8796ef2</td>\n",
              "    </tr>\n",
              "  </tbody>\n",
              "</table>\n",
              "</div>\n",
              "      <button class=\"colab-df-convert\" onclick=\"convertToInteractive('df-cb9e5804-7fe5-40e6-ae8c-33e6df233fad')\"\n",
              "              title=\"Convert this dataframe to an interactive table.\"\n",
              "              style=\"display:none;\">\n",
              "        \n",
              "  <svg xmlns=\"http://www.w3.org/2000/svg\" height=\"24px\"viewBox=\"0 0 24 24\"\n",
              "       width=\"24px\">\n",
              "    <path d=\"M0 0h24v24H0V0z\" fill=\"none\"/>\n",
              "    <path d=\"M18.56 5.44l.94 2.06.94-2.06 2.06-.94-2.06-.94-.94-2.06-.94 2.06-2.06.94zm-11 1L8.5 8.5l.94-2.06 2.06-.94-2.06-.94L8.5 2.5l-.94 2.06-2.06.94zm10 10l.94 2.06.94-2.06 2.06-.94-2.06-.94-.94-2.06-.94 2.06-2.06.94z\"/><path d=\"M17.41 7.96l-1.37-1.37c-.4-.4-.92-.59-1.43-.59-.52 0-1.04.2-1.43.59L10.3 9.45l-7.72 7.72c-.78.78-.78 2.05 0 2.83L4 21.41c.39.39.9.59 1.41.59.51 0 1.02-.2 1.41-.59l7.78-7.78 2.81-2.81c.8-.78.8-2.07 0-2.86zM5.41 20L4 18.59l7.72-7.72 1.47 1.35L5.41 20z\"/>\n",
              "  </svg>\n",
              "      </button>\n",
              "      \n",
              "  <style>\n",
              "    .colab-df-container {\n",
              "      display:flex;\n",
              "      flex-wrap:wrap;\n",
              "      gap: 12px;\n",
              "    }\n",
              "\n",
              "    .colab-df-convert {\n",
              "      background-color: #E8F0FE;\n",
              "      border: none;\n",
              "      border-radius: 50%;\n",
              "      cursor: pointer;\n",
              "      display: none;\n",
              "      fill: #1967D2;\n",
              "      height: 32px;\n",
              "      padding: 0 0 0 0;\n",
              "      width: 32px;\n",
              "    }\n",
              "\n",
              "    .colab-df-convert:hover {\n",
              "      background-color: #E2EBFA;\n",
              "      box-shadow: 0px 1px 2px rgba(60, 64, 67, 0.3), 0px 1px 3px 1px rgba(60, 64, 67, 0.15);\n",
              "      fill: #174EA6;\n",
              "    }\n",
              "\n",
              "    [theme=dark] .colab-df-convert {\n",
              "      background-color: #3B4455;\n",
              "      fill: #D2E3FC;\n",
              "    }\n",
              "\n",
              "    [theme=dark] .colab-df-convert:hover {\n",
              "      background-color: #434B5C;\n",
              "      box-shadow: 0px 1px 3px 1px rgba(0, 0, 0, 0.15);\n",
              "      filter: drop-shadow(0px 1px 2px rgba(0, 0, 0, 0.3));\n",
              "      fill: #FFFFFF;\n",
              "    }\n",
              "  </style>\n",
              "\n",
              "      <script>\n",
              "        const buttonEl =\n",
              "          document.querySelector('#df-cb9e5804-7fe5-40e6-ae8c-33e6df233fad button.colab-df-convert');\n",
              "        buttonEl.style.display =\n",
              "          google.colab.kernel.accessAllowed ? 'block' : 'none';\n",
              "\n",
              "        async function convertToInteractive(key) {\n",
              "          const element = document.querySelector('#df-cb9e5804-7fe5-40e6-ae8c-33e6df233fad');\n",
              "          const dataTable =\n",
              "            await google.colab.kernel.invokeFunction('convertToInteractive',\n",
              "                                                     [key], {});\n",
              "          if (!dataTable) return;\n",
              "\n",
              "          const docLinkHtml = 'Like what you see? Visit the ' +\n",
              "            '<a target=\"_blank\" href=https://colab.research.google.com/notebooks/data_table.ipynb>data table notebook</a>'\n",
              "            + ' to learn more about interactive tables.';\n",
              "          element.innerHTML = '';\n",
              "          dataTable['output_type'] = 'display_data';\n",
              "          await google.colab.output.renderOutput(dataTable, element);\n",
              "          const docLink = document.createElement('div');\n",
              "          docLink.innerHTML = docLinkHtml;\n",
              "          element.appendChild(docLink);\n",
              "        }\n",
              "      </script>\n",
              "    </div>\n",
              "  </div>\n",
              "  "
            ]
          },
          "metadata": {},
          "execution_count": 12
        }
      ]
    },
    {
      "cell_type": "code",
      "source": [
        "df.info()"
      ],
      "metadata": {
        "id": "lBV1CGBd6vIW",
        "colab": {
          "base_uri": "https://localhost:8080/"
        },
        "outputId": "b4a09f4d-3b52-4937-9964-afd15913a795"
      },
      "id": "lBV1CGBd6vIW",
      "execution_count": null,
      "outputs": [
        {
          "output_type": "stream",
          "name": "stdout",
          "text": [
            "<class 'pandas.core.frame.DataFrame'>\n",
            "RangeIndex: 36870132 entries, 0 to 36870131\n",
            "Data columns (total 9 columns):\n",
            " #   Column         Dtype  \n",
            "---  ------         -----  \n",
            " 0   event_time     object \n",
            " 1   event_type     object \n",
            " 2   product_id     int32  \n",
            " 3   category_id    int64  \n",
            " 4   category_code  object \n",
            " 5   brand          object \n",
            " 6   price          float16\n",
            " 7   user_id        int32  \n",
            " 8   user_session   object \n",
            "dtypes: float16(1), int32(2), int64(1), object(5)\n",
            "memory usage: 2.0+ GB\n"
          ]
        }
      ]
    },
    {
      "cell_type": "markdown",
      "source": [
        "## Column"
      ],
      "metadata": {
        "id": "irD8TL7-685z"
      },
      "id": "irD8TL7-685z"
    },
    {
      "cell_type": "code",
      "source": [
        "#no of rows with null values\n",
        "print(\"category_code \",df['category_code'].isnull().sum())\n",
        "print(\"brand \",df['brand'].isnull().sum())\n",
        "print(\"Both \",(df['category_code'].isnull() & df['brand'].isnull()).sum())"
      ],
      "metadata": {
        "id": "7NMXOQ1e7GKX",
        "colab": {
          "base_uri": "https://localhost:8080/"
        },
        "outputId": "7c10800a-6c7b-4061-a070-dcf38712dfcf"
      },
      "id": "7NMXOQ1e7GKX",
      "execution_count": null,
      "outputs": [
        {
          "output_type": "stream",
          "name": "stdout",
          "text": [
            "category_code  11762704\n",
            "brand  5115304\n",
            "Both  3097076\n"
          ]
        }
      ]
    },
    {
      "cell_type": "code",
      "source": [
        "df = df.dropna()"
      ],
      "metadata": {
        "id": "I8ICTfis7Kx2"
      },
      "id": "I8ICTfis7Kx2",
      "execution_count": null,
      "outputs": []
    },
    {
      "cell_type": "code",
      "source": [
        "df.shape"
      ],
      "metadata": {
        "id": "SwkKpL2i7MaP",
        "colab": {
          "base_uri": "https://localhost:8080/"
        },
        "outputId": "0af19898-54ea-472e-c678-9af323adfede"
      },
      "id": "SwkKpL2i7MaP",
      "execution_count": null,
      "outputs": [
        {
          "output_type": "execute_result",
          "data": {
            "text/plain": [
              "(23089197, 9)"
            ]
          },
          "metadata": {},
          "execution_count": 16
        }
      ]
    },
    {
      "cell_type": "markdown",
      "source": [
        "## No of visitors by date\n",
        "To analyze the number of visitors by date we have grouped the dataset by columns event_time and user_id.\n",
        "\n",
        "The no.of visitors on each date is extracted and shown in the graph below."
      ],
      "metadata": {
        "id": "pb-Ov--97Ubs"
      },
      "id": "pb-Ov--97Ubs"
    },
    {
      "cell_type": "code",
      "source": [
        "#No of visitors by date\n",
        "data = df.loc[:,['event_time','user_id']]\n",
        "#Extracting only dates\n",
        "data['event_time'] = data['event_time'].apply(lambda s: str(s)[0:10])\n",
        "visitor_by_date = data.drop_duplicates().groupby(['event_time'])['user_id'].agg(['count']).sort_values(by=['event_time'], ascending=True)\n",
        "x = pd.Series(visitor_by_date.index.values).apply(lambda s: datetime.strptime(s, '%Y-%m-%d').date())\n",
        "y = visitor_by_date['count']\n",
        "plt.rcParams['figure.figsize'] = (20,8)\n",
        "\n",
        "plt.plot(x,y)\n",
        "plt.show()"
      ],
      "metadata": {
        "id": "my1bMyyO7aBR",
        "colab": {
          "base_uri": "https://localhost:8080/",
          "height": 483
        },
        "outputId": "a246cad0-39e2-4170-ad67-bdb58aec9373"
      },
      "id": "my1bMyyO7aBR",
      "execution_count": null,
      "outputs": [
        {
          "output_type": "display_data",
          "data": {
            "text/plain": [
              "<Figure size 1440x576 with 1 Axes>"
            ],
            "image/png": "[encoded data removed]"
          },
          "metadata": {
            "needs_background": "light"
          }
        }
      ]
    },
    {
      "cell_type": "markdown",
      "source": [
        "## Most bought brand\n"
      ],
      "metadata": {
        "id": "aCdcWy6z7few"
      },
      "id": "aCdcWy6z7few"
    },
    {
      "cell_type": "code",
      "source": [
        "df['brand'].value_counts()\n",
        "df['event_type'].value_counts()"
      ],
      "metadata": {
        "id": "zO_Fl7Iq7kTV",
        "colab": {
          "base_uri": "https://localhost:8080/"
        },
        "outputId": "4a740414-4789-43c4-c98a-86fd00e308c6"
      },
      "id": "zO_Fl7Iq7kTV",
      "execution_count": null,
      "outputs": [
        {
          "output_type": "execute_result",
          "data": {
            "text/plain": [
              "view        21725663\n",
              "cart         1087427\n",
              "purchase      276107\n",
              "Name: event_type, dtype: int64"
            ]
          },
          "metadata": {},
          "execution_count": 18
        }
      ]
    },
    {
      "cell_type": "code",
      "source": [
        "title_type = df.groupby('brand').agg('count')\n",
        "print(title_type)\n",
        "type_labels = title_type.user_id.sort_values().index\n",
        "type_counts = title_type.user_id.sort_values()\n",
        "plt.figure(1,figsize =(20,10))\n",
        "the_grid = GridSpec(2,2)\n",
        "cmap = plt.get_cmap('Spectral')\n",
        "colors = [cmap(i) for i in np.linspace(0,1,8)]\n",
        "plt.subplot(the_grid[0,1],aspect=1,title = 'Brand titles')\n",
        "type_show_ids = plt.pie(type_counts,labels = type_labels,autopct = '%1.1f%%',shadow = True,colors = colors)\n",
        "plt.show()"
      ],
      "metadata": {
        "id": "piYiA9h-7qVp",
        "colab": {
          "base_uri": "https://localhost:8080/",
          "height": 797
        },
        "outputId": "c45c7425-448a-4cfb-dc92-dfc60a238c5c"
      },
      "id": "piYiA9h-7qVp",
      "execution_count": null,
      "outputs": [
        {
          "output_type": "stream",
          "name": "stdout",
          "text": [
            "            event_time  event_type  product_id  category_id  category_code  \\\n",
            "brand                                                                        \n",
            "a-elita            132         132         132          132            132   \n",
            "aardwolf           216         216         216          216            216   \n",
            "abtoys              53          53          53           53             53   \n",
            "accumaster          16          16          16           16             16   \n",
            "acd                 27          27          27           27             27   \n",
            "...                ...         ...         ...          ...            ...   \n",
            "zorg                60          60          60           60             60   \n",
            "zotac              393         393         393          393            393   \n",
            "zte               5728        5728        5728         5728           5728   \n",
            "zubr              4204        4204        4204         4204           4204   \n",
            "zwerg               13          13          13           13             13   \n",
            "\n",
            "            price  user_id  user_session  \n",
            "brand                                     \n",
            "a-elita       132      132           132  \n",
            "aardwolf      216      216           216  \n",
            "abtoys         53       53            53  \n",
            "accumaster     16       16            16  \n",
            "acd            27       27            27  \n",
            "...           ...      ...           ...  \n",
            "zorg           60       60            60  \n",
            "zotac         393      393           393  \n",
            "zte          5728     5728          5728  \n",
            "zubr         4204     4204          4204  \n",
            "zwerg          13       13            13  \n",
            "\n",
            "[1865 rows x 8 columns]\n"
          ]
        },
        {
          "output_type": "display_data",
          "data": {
            "text/plain": [
              "<Figure size 1440x720 with 1 Axes>"
            ],
            "image/png": "[encoded data removed]"
          },
          "metadata": {}
        }
      ]
    },
    {
      "cell_type": "markdown",
      "source": [
        "## Popular product categories\n",
        "A squarify plot is used to visually represent which categories of product has drawn more demand from customer.\n",
        "\n",
        "Most of the items are given two category codes separated by a point.First word depicts the main category of the item whereas the following word depicts its sub category."
      ],
      "metadata": {
        "id": "oFAdfppA7xQN"
      },
      "id": "oFAdfppA7xQN"
    },
    {
      "cell_type": "code",
      "source": [
        "top_category_n = 30\n",
        "top_category = df.loc[:,'category_code'].value_counts()[:top_category_n].sort_values(ascending=False)\n",
        "squarify.plot(sizes=top_category, label=top_category.index.array, color=[\"red\",\"cyan\",\"green\",\"orange\",\"blue\",\"grey\"], alpha=.7  )\n",
        "plt.axis('off')\n",
        "plt.show()"
      ],
      "metadata": {
        "id": "ZXMjHk-X719n",
        "colab": {
          "base_uri": "https://localhost:8080/",
          "height": 466
        },
        "outputId": "4ba8e8d2-cc8f-4d5d-cd48-326c5eca1c0e"
      },
      "id": "ZXMjHk-X719n",
      "execution_count": null,
      "outputs": [
        {
          "output_type": "display_data",
          "data": {
            "text/plain": [
              "<Figure size 1440x576 with 1 Axes>"
            ],
            "image/png": "[encoded data removed]"
          },
          "metadata": {
            "needs_background": "light"
          }
        }
      ]
    },
    {
      "cell_type": "markdown",
      "source": [
        "\"Smartphones\" which comes under electronics goods are more popular.\n",
        "\n",
        "A huge fraction of items bought are electronics which concludes there have been major discounts and price deals available on ecommerce platform."
      ],
      "metadata": {
        "id": "vY6f5oQf79b0"
      },
      "id": "vY6f5oQf79b0"
    },
    {
      "cell_type": "code",
      "source": [
        "labels = ['view', 'cart','purchase']\n",
        "size = df['event_type'].value_counts()\n",
        "colors = ['yellowgreen', 'lightskyblue','lightcoral']\n",
        "explode = [0, 0.1,0.1]\n",
        "\n",
        "plt.rcParams['figure.figsize'] = (8, 8)\n",
        "plt.pie(size, colors = colors, explode = explode, labels = labels, shadow = True, autopct = '%.2f%%')\n",
        "plt.title('Event_Type', fontsize = 20)\n",
        "plt.axis('off')\n",
        "plt.legend()\n",
        "plt.show()"
      ],
      "metadata": {
        "id": "HtVkgwjw8Bie",
        "colab": {
          "base_uri": "https://localhost:8080/",
          "height": 486
        },
        "outputId": "e58479ed-5504-4022-84e2-525c4d0d26f8"
      },
      "id": "HtVkgwjw8Bie",
      "execution_count": null,
      "outputs": [
        {
          "output_type": "display_data",
          "data": {
            "text/plain": [
              "<Figure size 576x576 with 1 Axes>"
            ],
            "image/png": "[encoded data removed]"
          },
          "metadata": {}
        }
      ]
    },
    {
      "cell_type": "markdown",
      "source": [
        "## Conversion Rates\n",
        "We have three type of events view,add to cart and purchase.Not every user view ,add it to the cart and purchase it.Most users tend to have look at the product and its price.\n",
        "\n",
        "Conversion rates gives us the idea of how many users actually purchased the product as opposed to how many times the products are viewed or added to the cart.\n",
        "\n",
        "How many products are actually purchased as opposed to number of products added to the cart.\n",
        "\n",
        "We find\n",
        "\n",
        "1.Count of people who viewed the item.\n",
        "\n",
        "2.Count of people who added the item to cart.\n",
        "\n",
        "3.Count of people who bought the item."
      ],
      "metadata": {
        "id": "NMyeexyU8KEt"
      },
      "id": "NMyeexyU8KEt"
    },
    {
      "cell_type": "code",
      "source": [
        "view_count = df['event_type'].value_counts()[0]\n",
        "cart_count = df['event_type'].value_counts()[1]\n",
        "purchase_count = df['event_type'].value_counts()[2]\n",
        "print(\"Rate of conversion between view and purchase events\" +str((purchase_count/view_count)*100) +'%')\n",
        "print(\"Rate of conversion between view and add to cart events\" +str((cart_count/view_count)*100) +'%')\n",
        "print(\"Rate of conversion between add to cart and purchase events\" +str((purchase_count/cart_count)*100) +'%')"
      ],
      "metadata": {
        "id": "sRXiBSxN8Q0f",
        "colab": {
          "base_uri": "https://localhost:8080/"
        },
        "outputId": "d45bd165-b2c6-4ec4-b65b-b2acff8ca271"
      },
      "id": "sRXiBSxN8Q0f",
      "execution_count": null,
      "outputs": [
        {
          "output_type": "stream",
          "name": "stdout",
          "text": [
            "Rate of conversion between view and purchase events1.2708795123996908%\n",
            "Rate of conversion between view and add to cart events5.005264971660474%\n",
            "Rate of conversion between add to cart and purchase events25.39085382283133%\n"
          ]
        }
      ]
    },
    {
      "cell_type": "markdown",
      "source": [
        "## Brandwise sales of all event types¶\n"
      ],
      "metadata": {
        "id": "RkAM0C9e8W5y"
      },
      "id": "RkAM0C9e8W5y"
    },
    {
      "cell_type": "code",
      "source": [
        "#Brandwise sales of all event types\n",
        "df['brand'].value_counts().head(50).plot.bar(figsize = (18,7))\n",
        "plt.title('Top brand',fontsize = 20)\n",
        "plt.xlabel('Names of brand')\n",
        "plt.ylabel('Count')\n",
        "plt.show()"
      ],
      "metadata": {
        "id": "OTdsbo6L8bgW",
        "colab": {
          "base_uri": "https://localhost:8080/",
          "height": 514
        },
        "outputId": "29e4d1c5-f0f3-428d-a622-cf1f7171888b"
      },
      "id": "OTdsbo6L8bgW",
      "execution_count": null,
      "outputs": [
        {
          "output_type": "display_data",
          "data": {
            "text/plain": [
              "<Figure size 1296x504 with 1 Axes>"
            ],
            "image/png": "[encoded data removed]"
          },
          "metadata": {
            "needs_background": "light"
          }
        }
      ]
    },
    {
      "cell_type": "markdown",
      "source": [
        "We consider only purchase events which tells us which brand is the first player in the market"
      ],
      "metadata": {
        "id": "5vPGpQRU8gxw"
      },
      "id": "5vPGpQRU8gxw"
    },
    {
      "cell_type": "code",
      "source": [
        "d = df.loc[df['event_type'].isin(['purchase'])].drop_duplicates()\n",
        "print(d['brand'].value_counts())\n",
        "d['brand'].value_counts().head(70).plot.bar(figsize =(18,7))\n",
        "plt.xlabel('Names of brand')\n",
        "plt.ylabel('Count')\n",
        "plt.show()"
      ],
      "metadata": {
        "id": "SAJxAeLH8k-G",
        "colab": {
          "base_uri": "https://localhost:8080/",
          "height": 691
        },
        "outputId": "b2b1c5bc-cc30-47f5-e825-3bc7b86485f0"
      },
      "id": "SAJxAeLH8k-G",
      "execution_count": null,
      "outputs": [
        {
          "output_type": "stream",
          "name": "stdout",
          "text": [
            "samsung      85383\n",
            "apple        73133\n",
            "xiaomi       22717\n",
            "huawei        9846\n",
            "oppo          6365\n",
            "             ...  \n",
            "acron            1\n",
            "schwinn          1\n",
            "dsp              1\n",
            "niio             1\n",
            "schneider        1\n",
            "Name: brand, Length: 976, dtype: int64\n"
          ]
        },
        {
          "output_type": "display_data",
          "data": {
            "text/plain": [
              "<Figure size 1296x504 with 1 Axes>"
            ],
            "image/png": "[encoded data removed]"
          },
          "metadata": {
            "needs_background": "light"
          }
        }
      ]
    },
    {
      "cell_type": "code",
      "source": [
        "top_player = df['brand'].value_counts()[0]\n",
        "second_player = df['brand'].value_counts()[1]\n",
        "last_player = df['brand'].value_counts()[-1]\n",
        "print(\"Top brand saw \" +str((top_player/second_player)*100)+\"%more sales than second_player in the market\")\n",
        "print(\"Top brand saw \" +str((top_player/last_player)*100)+\"%more sales than bottom player in the market\")"
      ],
      "metadata": {
        "id": "S0LjhU-I8rak",
        "colab": {
          "base_uri": "https://localhost:8080/"
        },
        "outputId": "fd331ca0-68a5-4d3b-f975-0d13f1660b51"
      },
      "id": "S0LjhU-I8rak",
      "execution_count": null,
      "outputs": [
        {
          "output_type": "stream",
          "name": "stdout",
          "text": [
            "Top brand saw 120.17604885416308%more sales than second_player in the market\n",
            "Top brand saw 426329100.0%more sales than bottom player in the market\n"
          ]
        }
      ]
    },
    {
      "cell_type": "markdown",
      "source": [
        "## Purchase path\n",
        "The standard idea is that most people first view an item,compare with other item and add to cart to buy specific item.not many people follow this path.\n",
        "\n",
        "Given below is an example of customer who followed the path view->cart->purchase"
      ],
      "metadata": {
        "id": "tqN8ckUw8xEN"
      },
      "id": "tqN8ckUw8xEN"
    },
    {
      "cell_type": "code",
      "source": [
        "df.loc[df.user_session ==\"ef3daa59-4936-43e5-a530-32902f64b2f4\"].sort_values(by = \"event_time\")"
      ],
      "metadata": {
        "id": "RCNOr_Y182FH",
        "colab": {
          "base_uri": "https://localhost:8080/",
          "height": 175
        },
        "outputId": "373c9dd6-3aa4-402f-ed73-85f464f5b769"
      },
      "id": "RCNOr_Y182FH",
      "execution_count": null,
      "outputs": [
        {
          "output_type": "execute_result",
          "data": {
            "text/plain": [
              "                   event_time event_type  product_id          category_id  \\\n",
              "2169  2019-11-01 00:14:32 UTC       view     1005105  2053013555631882655   \n",
              "2275  2019-11-01 00:15:10 UTC       cart     1005105  2053013555631882655   \n",
              "2309  2019-11-01 00:15:23 UTC   purchase     1005105  2053013555631882655   \n",
              "2374  2019-11-01 00:15:46 UTC       view     1005105  2053013555631882655   \n",
              "\n",
              "               category_code  brand   price    user_id  \\\n",
              "2169  electronics.smartphone  apple  1349.0  518840496   \n",
              "2275  electronics.smartphone  apple  1349.0  518840496   \n",
              "2309  electronics.smartphone  apple  1349.0  518840496   \n",
              "2374  electronics.smartphone  apple  1349.0  518840496   \n",
              "\n",
              "                              user_session  \n",
              "2169  ef3daa59-4936-43e5-a530-32902f64b2f4  \n",
              "2275  ef3daa59-4936-43e5-a530-32902f64b2f4  \n",
              "2309  ef3daa59-4936-43e5-a530-32902f64b2f4  \n",
              "2374  ef3daa59-4936-43e5-a530-32902f64b2f4  "
            ],
            "text/html": [
              "\n",
              "  <div id=\"df-e54c8903-a226-45cb-9b8b-740d5d615394\">\n",
              "    <div class=\"colab-df-container\">\n",
              "      <div>\n",
              "<style scoped>\n",
              "    .dataframe tbody tr th:only-of-type {\n",
              "        vertical-align: middle;\n",
              "    }\n",
              "\n",
              "    .dataframe tbody tr th {\n",
              "        vertical-align: top;\n",
              "    }\n",
              "\n",
              "    .dataframe thead th {\n",
              "        text-align: right;\n",
              "    }\n",
              "</style>\n",
              "<table border=\"1\" class=\"dataframe\">\n",
              "  <thead>\n",
              "    <tr style=\"text-align: right;\">\n",
              "      <th></th>\n",
              "      <th>event_time</th>\n",
              "      <th>event_type</th>\n",
              "      <th>product_id</th>\n",
              "      <th>category_id</th>\n",
              "      <th>category_code</th>\n",
              "      <th>brand</th>\n",
              "      <th>price</th>\n",
              "      <th>user_id</th>\n",
              "      <th>user_session</th>\n",
              "    </tr>\n",
              "  </thead>\n",
              "  <tbody>\n",
              "    <tr>\n",
              "      <th>2169</th>\n",
              "      <td>2019-11-01 00:14:32 UTC</td>\n",
              "      <td>view</td>\n",
              "      <td>1005105</td>\n",
              "      <td>2053013555631882655</td>\n",
              "      <td>electronics.smartphone</td>\n",
              "      <td>apple</td>\n",
              "      <td>1349.0</td>\n",
              "      <td>518840496</td>\n",
              "      <td>ef3daa59-4936-43e5-a530-32902f64b2f4</td>\n",
              "    </tr>\n",
              "    <tr>\n",
              "      <th>2275</th>\n",
              "      <td>2019-11-01 00:15:10 UTC</td>\n",
              "      <td>cart</td>\n",
              "      <td>1005105</td>\n",
              "      <td>2053013555631882655</td>\n",
              "      <td>electronics.smartphone</td>\n",
              "      <td>apple</td>\n",
              "      <td>1349.0</td>\n",
              "      <td>518840496</td>\n",
              "      <td>ef3daa59-4936-43e5-a530-32902f64b2f4</td>\n",
              "    </tr>\n",
              "    <tr>\n",
              "      <th>2309</th>\n",
              "      <td>2019-11-01 00:15:23 UTC</td>\n",
              "      <td>purchase</td>\n",
              "      <td>1005105</td>\n",
              "      <td>2053013555631882655</td>\n",
              "      <td>electronics.smartphone</td>\n",
              "      <td>apple</td>\n",
              "      <td>1349.0</td>\n",
              "      <td>518840496</td>\n",
              "      <td>ef3daa59-4936-43e5-a530-32902f64b2f4</td>\n",
              "    </tr>\n",
              "    <tr>\n",
              "      <th>2374</th>\n",
              "      <td>2019-11-01 00:15:46 UTC</td>\n",
              "      <td>view</td>\n",
              "      <td>1005105</td>\n",
              "      <td>2053013555631882655</td>\n",
              "      <td>electronics.smartphone</td>\n",
              "      <td>apple</td>\n",
              "      <td>1349.0</td>\n",
              "      <td>518840496</td>\n",
              "      <td>ef3daa59-4936-43e5-a530-32902f64b2f4</td>\n",
              "    </tr>\n",
              "  </tbody>\n",
              "</table>\n",
              "</div>\n",
              "      <button class=\"colab-df-convert\" onclick=\"convertToInteractive('df-e54c8903-a226-45cb-9b8b-740d5d615394')\"\n",
              "              title=\"Convert this dataframe to an interactive table.\"\n",
              "              style=\"display:none;\">\n",
              "        \n",
              "  <svg xmlns=\"http://www.w3.org/2000/svg\" height=\"24px\"viewBox=\"0 0 24 24\"\n",
              "       width=\"24px\">\n",
              "    <path d=\"M0 0h24v24H0V0z\" fill=\"none\"/>\n",
              "    <path d=\"M18.56 5.44l.94 2.06.94-2.06 2.06-.94-2.06-.94-.94-2.06-.94 2.06-2.06.94zm-11 1L8.5 8.5l.94-2.06 2.06-.94-2.06-.94L8.5 2.5l-.94 2.06-2.06.94zm10 10l.94 2.06.94-2.06 2.06-.94-2.06-.94-.94-2.06-.94 2.06-2.06.94z\"/><path d=\"M17.41 7.96l-1.37-1.37c-.4-.4-.92-.59-1.43-.59-.52 0-1.04.2-1.43.59L10.3 9.45l-7.72 7.72c-.78.78-.78 2.05 0 2.83L4 21.41c.39.39.9.59 1.41.59.51 0 1.02-.2 1.41-.59l7.78-7.78 2.81-2.81c.8-.78.8-2.07 0-2.86zM5.41 20L4 18.59l7.72-7.72 1.47 1.35L5.41 20z\"/>\n",
              "  </svg>\n",
              "      </button>\n",
              "      \n",
              "  <style>\n",
              "    .colab-df-container {\n",
              "      display:flex;\n",
              "      flex-wrap:wrap;\n",
              "      gap: 12px;\n",
              "    }\n",
              "\n",
              "    .colab-df-convert {\n",
              "      background-color: #E8F0FE;\n",
              "      border: none;\n",
              "      border-radius: 50%;\n",
              "      cursor: pointer;\n",
              "      display: none;\n",
              "      fill: #1967D2;\n",
              "      height: 32px;\n",
              "      padding: 0 0 0 0;\n",
              "      width: 32px;\n",
              "    }\n",
              "\n",
              "    .colab-df-convert:hover {\n",
              "      background-color: #E2EBFA;\n",
              "      box-shadow: 0px 1px 2px rgba(60, 64, 67, 0.3), 0px 1px 3px 1px rgba(60, 64, 67, 0.15);\n",
              "      fill: #174EA6;\n",
              "    }\n",
              "\n",
              "    [theme=dark] .colab-df-convert {\n",
              "      background-color: #3B4455;\n",
              "      fill: #D2E3FC;\n",
              "    }\n",
              "\n",
              "    [theme=dark] .colab-df-convert:hover {\n",
              "      background-color: #434B5C;\n",
              "      box-shadow: 0px 1px 3px 1px rgba(0, 0, 0, 0.15);\n",
              "      filter: drop-shadow(0px 1px 2px rgba(0, 0, 0, 0.3));\n",
              "      fill: #FFFFFF;\n",
              "    }\n",
              "  </style>\n",
              "\n",
              "      <script>\n",
              "        const buttonEl =\n",
              "          document.querySelector('#df-e54c8903-a226-45cb-9b8b-740d5d615394 button.colab-df-convert');\n",
              "        buttonEl.style.display =\n",
              "          google.colab.kernel.accessAllowed ? 'block' : 'none';\n",
              "\n",
              "        async function convertToInteractive(key) {\n",
              "          const element = document.querySelector('#df-e54c8903-a226-45cb-9b8b-740d5d615394');\n",
              "          const dataTable =\n",
              "            await google.colab.kernel.invokeFunction('convertToInteractive',\n",
              "                                                     [key], {});\n",
              "          if (!dataTable) return;\n",
              "\n",
              "          const docLinkHtml = 'Like what you see? Visit the ' +\n",
              "            '<a target=\"_blank\" href=https://colab.research.google.com/notebooks/data_table.ipynb>data table notebook</a>'\n",
              "            + ' to learn more about interactive tables.';\n",
              "          element.innerHTML = '';\n",
              "          dataTable['output_type'] = 'display_data';\n",
              "          await google.colab.output.renderOutput(dataTable, element);\n",
              "          const docLink = document.createElement('div');\n",
              "          docLink.innerHTML = docLinkHtml;\n",
              "          element.appendChild(docLink);\n",
              "        }\n",
              "      </script>\n",
              "    </div>\n",
              "  </div>\n",
              "  "
            ]
          },
          "metadata": {},
          "execution_count": 26
        }
      ]
    },
    {
      "cell_type": "markdown",
      "source": [
        "## User's journey\n",
        "The code below shows the user who purchased a apple product after which he views other products manufactured by the same company \"apple\"."
      ],
      "metadata": {
        "id": "IfNOpEMw87PA"
      },
      "id": "IfNOpEMw87PA"
    },
    {
      "cell_type": "code",
      "source": [
        "user_ID = 518267348\n",
        "df.loc[df['user_id'] == user_ID]"
      ],
      "metadata": {
        "id": "QmUmgOVL9AH3",
        "colab": {
          "base_uri": "https://localhost:8080/",
          "height": 470
        },
        "outputId": "8a89d03e-0ed9-4613-b72a-46c9e5942e3b"
      },
      "id": "QmUmgOVL9AH3",
      "execution_count": null,
      "outputs": [
        {
          "output_type": "execute_result",
          "data": {
            "text/plain": [
              "                     event_time event_type  product_id          category_id  \\\n",
              "1748    2019-11-01 00:11:48 UTC       view     1005129  2053013555631882655   \n",
              "1822    2019-11-01 00:12:16 UTC       cart     1005129  2053013555631882655   \n",
              "1951    2019-11-01 00:13:10 UTC   purchase     1005129  2053013555631882655   \n",
              "2285    2019-11-01 00:15:14 UTC       view     1005105  2053013555631882655   \n",
              "2520    2019-11-01 00:16:46 UTC       view     1005129  2053013555631882655   \n",
              "2678    2019-11-01 00:17:47 UTC       view     1005129  2053013555631882655   \n",
              "2706    2019-11-01 00:17:57 UTC       view     1005105  2053013555631882655   \n",
              "2800    2019-11-01 00:18:32 UTC       view     1005105  2053013555631882655   \n",
              "2868    2019-11-01 00:18:57 UTC       view     1005105  2053013555631882655   \n",
              "2875    2019-11-01 00:19:00 UTC       view     1005105  2053013555631882655   \n",
              "2948    2019-11-01 00:19:25 UTC       view     1005129  2053013555631882655   \n",
              "100902  2019-11-01 03:53:42 UTC       view     1005129  2053013555631882655   \n",
              "\n",
              "                 category_code  brand   price    user_id  \\\n",
              "1748    electronics.smartphone  apple  1337.0  518267348   \n",
              "1822    electronics.smartphone  apple  1337.0  518267348   \n",
              "1951    electronics.smartphone  apple  1337.0  518267348   \n",
              "2285    electronics.smartphone  apple  1349.0  518267348   \n",
              "2520    electronics.smartphone  apple  1337.0  518267348   \n",
              "2678    electronics.smartphone  apple  1337.0  518267348   \n",
              "2706    electronics.smartphone  apple  1349.0  518267348   \n",
              "2800    electronics.smartphone  apple  1349.0  518267348   \n",
              "2868    electronics.smartphone  apple  1349.0  518267348   \n",
              "2875    electronics.smartphone  apple  1349.0  518267348   \n",
              "2948    electronics.smartphone  apple  1337.0  518267348   \n",
              "100902  electronics.smartphone  apple  1337.0  518267348   \n",
              "\n",
              "                                user_session  \n",
              "1748    61f913b1-ed5f-4495-8139-7e3e20be92c3  \n",
              "1822    61f913b1-ed5f-4495-8139-7e3e20be92c3  \n",
              "1951    61f913b1-ed5f-4495-8139-7e3e20be92c3  \n",
              "2285    af95bb12-1956-40a4-a703-fcae492b2fb6  \n",
              "2520    4a1fa3dc-f7ed-4880-8e86-9b9f87045464  \n",
              "2678    4a1fa3dc-f7ed-4880-8e86-9b9f87045464  \n",
              "2706    4a1fa3dc-f7ed-4880-8e86-9b9f87045464  \n",
              "2800    4a1fa3dc-f7ed-4880-8e86-9b9f87045464  \n",
              "2868    4a1fa3dc-f7ed-4880-8e86-9b9f87045464  \n",
              "2875    4a1fa3dc-f7ed-4880-8e86-9b9f87045464  \n",
              "2948    4a1fa3dc-f7ed-4880-8e86-9b9f87045464  \n",
              "100902  5c9facb2-c8b4-4bfe-8325-0468a1a9f753  "
            ],
            "text/html": [
              "\n",
              "  <div id=\"df-4293e0ae-5bf3-4007-9f1f-10d507866c88\">\n",
              "    <div class=\"colab-df-container\">\n",
              "      <div>\n",
              "<style scoped>\n",
              "    .dataframe tbody tr th:only-of-type {\n",
              "        vertical-align: middle;\n",
              "    }\n",
              "\n",
              "    .dataframe tbody tr th {\n",
              "        vertical-align: top;\n",
              "    }\n",
              "\n",
              "    .dataframe thead th {\n",
              "        text-align: right;\n",
              "    }\n",
              "</style>\n",
              "<table border=\"1\" class=\"dataframe\">\n",
              "  <thead>\n",
              "    <tr style=\"text-align: right;\">\n",
              "      <th></th>\n",
              "      <th>event_time</th>\n",
              "      <th>event_type</th>\n",
              "      <th>product_id</th>\n",
              "      <th>category_id</th>\n",
              "      <th>category_code</th>\n",
              "      <th>brand</th>\n",
              "      <th>price</th>\n",
              "      <th>user_id</th>\n",
              "      <th>user_session</th>\n",
              "    </tr>\n",
              "  </thead>\n",
              "  <tbody>\n",
              "    <tr>\n",
              "      <th>1748</th>\n",
              "      <td>2019-11-01 00:11:48 UTC</td>\n",
              "      <td>view</td>\n",
              "      <td>1005129</td>\n",
              "      <td>2053013555631882655</td>\n",
              "      <td>electronics.smartphone</td>\n",
              "      <td>apple</td>\n",
              "      <td>1337.0</td>\n",
              "      <td>518267348</td>\n",
              "      <td>61f913b1-ed5f-4495-8139-7e3e20be92c3</td>\n",
              "    </tr>\n",
              "    <tr>\n",
              "      <th>1822</th>\n",
              "      <td>2019-11-01 00:12:16 UTC</td>\n",
              "      <td>cart</td>\n",
              "      <td>1005129</td>\n",
              "      <td>2053013555631882655</td>\n",
              "      <td>electronics.smartphone</td>\n",
              "      <td>apple</td>\n",
              "      <td>1337.0</td>\n",
              "      <td>518267348</td>\n",
              "      <td>61f913b1-ed5f-4495-8139-7e3e20be92c3</td>\n",
              "    </tr>\n",
              "    <tr>\n",
              "      <th>1951</th>\n",
              "      <td>2019-11-01 00:13:10 UTC</td>\n",
              "      <td>purchase</td>\n",
              "      <td>1005129</td>\n",
              "      <td>2053013555631882655</td>\n",
              "      <td>electronics.smartphone</td>\n",
              "      <td>apple</td>\n",
              "      <td>1337.0</td>\n",
              "      <td>518267348</td>\n",
              "      <td>61f913b1-ed5f-4495-8139-7e3e20be92c3</td>\n",
              "    </tr>\n",
              "    <tr>\n",
              "      <th>2285</th>\n",
              "      <td>2019-11-01 00:15:14 UTC</td>\n",
              "      <td>view</td>\n",
              "      <td>1005105</td>\n",
              "      <td>2053013555631882655</td>\n",
              "      <td>electronics.smartphone</td>\n",
              "      <td>apple</td>\n",
              "      <td>1349.0</td>\n",
              "      <td>518267348</td>\n",
              "      <td>af95bb12-1956-40a4-a703-fcae492b2fb6</td>\n",
              "    </tr>\n",
              "    <tr>\n",
              "      <th>2520</th>\n",
              "      <td>2019-11-01 00:16:46 UTC</td>\n",
              "      <td>view</td>\n",
              "      <td>1005129</td>\n",
              "      <td>2053013555631882655</td>\n",
              "      <td>electronics.smartphone</td>\n",
              "      <td>apple</td>\n",
              "      <td>1337.0</td>\n",
              "      <td>518267348</td>\n",
              "      <td>4a1fa3dc-f7ed-4880-8e86-9b9f87045464</td>\n",
              "    </tr>\n",
              "    <tr>\n",
              "      <th>2678</th>\n",
              "      <td>2019-11-01 00:17:47 UTC</td>\n",
              "      <td>view</td>\n",
              "      <td>1005129</td>\n",
              "      <td>2053013555631882655</td>\n",
              "      <td>electronics.smartphone</td>\n",
              "      <td>apple</td>\n",
              "      <td>1337.0</td>\n",
              "      <td>518267348</td>\n",
              "      <td>4a1fa3dc-f7ed-4880-8e86-9b9f87045464</td>\n",
              "    </tr>\n",
              "    <tr>\n",
              "      <th>2706</th>\n",
              "      <td>2019-11-01 00:17:57 UTC</td>\n",
              "      <td>view</td>\n",
              "      <td>1005105</td>\n",
              "      <td>2053013555631882655</td>\n",
              "      <td>electronics.smartphone</td>\n",
              "      <td>apple</td>\n",
              "      <td>1349.0</td>\n",
              "      <td>518267348</td>\n",
              "      <td>4a1fa3dc-f7ed-4880-8e86-9b9f87045464</td>\n",
              "    </tr>\n",
              "    <tr>\n",
              "      <th>2800</th>\n",
              "      <td>2019-11-01 00:18:32 UTC</td>\n",
              "      <td>view</td>\n",
              "      <td>1005105</td>\n",
              "      <td>2053013555631882655</td>\n",
              "      <td>electronics.smartphone</td>\n",
              "      <td>apple</td>\n",
              "      <td>1349.0</td>\n",
              "      <td>518267348</td>\n",
              "      <td>4a1fa3dc-f7ed-4880-8e86-9b9f87045464</td>\n",
              "    </tr>\n",
              "    <tr>\n",
              "      <th>2868</th>\n",
              "      <td>2019-11-01 00:18:57 UTC</td>\n",
              "      <td>view</td>\n",
              "      <td>1005105</td>\n",
              "      <td>2053013555631882655</td>\n",
              "      <td>electronics.smartphone</td>\n",
              "      <td>apple</td>\n",
              "      <td>1349.0</td>\n",
              "      <td>518267348</td>\n",
              "      <td>4a1fa3dc-f7ed-4880-8e86-9b9f87045464</td>\n",
              "    </tr>\n",
              "    <tr>\n",
              "      <th>2875</th>\n",
              "      <td>2019-11-01 00:19:00 UTC</td>\n",
              "      <td>view</td>\n",
              "      <td>1005105</td>\n",
              "      <td>2053013555631882655</td>\n",
              "      <td>electronics.smartphone</td>\n",
              "      <td>apple</td>\n",
              "      <td>1349.0</td>\n",
              "      <td>518267348</td>\n",
              "      <td>4a1fa3dc-f7ed-4880-8e86-9b9f87045464</td>\n",
              "    </tr>\n",
              "    <tr>\n",
              "      <th>2948</th>\n",
              "      <td>2019-11-01 00:19:25 UTC</td>\n",
              "      <td>view</td>\n",
              "      <td>1005129</td>\n",
              "      <td>2053013555631882655</td>\n",
              "      <td>electronics.smartphone</td>\n",
              "      <td>apple</td>\n",
              "      <td>1337.0</td>\n",
              "      <td>518267348</td>\n",
              "      <td>4a1fa3dc-f7ed-4880-8e86-9b9f87045464</td>\n",
              "    </tr>\n",
              "    <tr>\n",
              "      <th>100902</th>\n",
              "      <td>2019-11-01 03:53:42 UTC</td>\n",
              "      <td>view</td>\n",
              "      <td>1005129</td>\n",
              "      <td>2053013555631882655</td>\n",
              "      <td>electronics.smartphone</td>\n",
              "      <td>apple</td>\n",
              "      <td>1337.0</td>\n",
              "      <td>518267348</td>\n",
              "      <td>5c9facb2-c8b4-4bfe-8325-0468a1a9f753</td>\n",
              "    </tr>\n",
              "  </tbody>\n",
              "</table>\n",
              "</div>\n",
              "      <button class=\"colab-df-convert\" onclick=\"convertToInteractive('df-4293e0ae-5bf3-4007-9f1f-10d507866c88')\"\n",
              "              title=\"Convert this dataframe to an interactive table.\"\n",
              "              style=\"display:none;\">\n",
              "        \n",
              "  <svg xmlns=\"http://www.w3.org/2000/svg\" height=\"24px\"viewBox=\"0 0 24 24\"\n",
              "       width=\"24px\">\n",
              "    <path d=\"M0 0h24v24H0V0z\" fill=\"none\"/>\n",
              "    <path d=\"M18.56 5.44l.94 2.06.94-2.06 2.06-.94-2.06-.94-.94-2.06-.94 2.06-2.06.94zm-11 1L8.5 8.5l.94-2.06 2.06-.94-2.06-.94L8.5 2.5l-.94 2.06-2.06.94zm10 10l.94 2.06.94-2.06 2.06-.94-2.06-.94-.94-2.06-.94 2.06-2.06.94z\"/><path d=\"M17.41 7.96l-1.37-1.37c-.4-.4-.92-.59-1.43-.59-.52 0-1.04.2-1.43.59L10.3 9.45l-7.72 7.72c-.78.78-.78 2.05 0 2.83L4 21.41c.39.39.9.59 1.41.59.51 0 1.02-.2 1.41-.59l7.78-7.78 2.81-2.81c.8-.78.8-2.07 0-2.86zM5.41 20L4 18.59l7.72-7.72 1.47 1.35L5.41 20z\"/>\n",
              "  </svg>\n",
              "      </button>\n",
              "      \n",
              "  <style>\n",
              "    .colab-df-container {\n",
              "      display:flex;\n",
              "      flex-wrap:wrap;\n",
              "      gap: 12px;\n",
              "    }\n",
              "\n",
              "    .colab-df-convert {\n",
              "      background-color: #E8F0FE;\n",
              "      border: none;\n",
              "      border-radius: 50%;\n",
              "      cursor: pointer;\n",
              "      display: none;\n",
              "      fill: #1967D2;\n",
              "      height: 32px;\n",
              "      padding: 0 0 0 0;\n",
              "      width: 32px;\n",
              "    }\n",
              "\n",
              "    .colab-df-convert:hover {\n",
              "      background-color: #E2EBFA;\n",
              "      box-shadow: 0px 1px 2px rgba(60, 64, 67, 0.3), 0px 1px 3px 1px rgba(60, 64, 67, 0.15);\n",
              "      fill: #174EA6;\n",
              "    }\n",
              "\n",
              "    [theme=dark] .colab-df-convert {\n",
              "      background-color: #3B4455;\n",
              "      fill: #D2E3FC;\n",
              "    }\n",
              "\n",
              "    [theme=dark] .colab-df-convert:hover {\n",
              "      background-color: #434B5C;\n",
              "      box-shadow: 0px 1px 3px 1px rgba(0, 0, 0, 0.15);\n",
              "      filter: drop-shadow(0px 1px 2px rgba(0, 0, 0, 0.3));\n",
              "      fill: #FFFFFF;\n",
              "    }\n",
              "  </style>\n",
              "\n",
              "      <script>\n",
              "        const buttonEl =\n",
              "          document.querySelector('#df-4293e0ae-5bf3-4007-9f1f-10d507866c88 button.colab-df-convert');\n",
              "        buttonEl.style.display =\n",
              "          google.colab.kernel.accessAllowed ? 'block' : 'none';\n",
              "\n",
              "        async function convertToInteractive(key) {\n",
              "          const element = document.querySelector('#df-4293e0ae-5bf3-4007-9f1f-10d507866c88');\n",
              "          const dataTable =\n",
              "            await google.colab.kernel.invokeFunction('convertToInteractive',\n",
              "                                                     [key], {});\n",
              "          if (!dataTable) return;\n",
              "\n",
              "          const docLinkHtml = 'Like what you see? Visit the ' +\n",
              "            '<a target=\"_blank\" href=https://colab.research.google.com/notebooks/data_table.ipynb>data table notebook</a>'\n",
              "            + ' to learn more about interactive tables.';\n",
              "          element.innerHTML = '';\n",
              "          dataTable['output_type'] = 'display_data';\n",
              "          await google.colab.output.renderOutput(dataTable, element);\n",
              "          const docLink = document.createElement('div');\n",
              "          docLink.innerHTML = docLinkHtml;\n",
              "          element.appendChild(docLink);\n",
              "        }\n",
              "      </script>\n",
              "    </div>\n",
              "  </div>\n",
              "  "
            ]
          },
          "metadata": {},
          "execution_count": 27
        }
      ]
    },
    {
      "cell_type": "markdown",
      "source": [
        "## Chunksize = 10000"
      ],
      "metadata": {
        "id": "UJxsdJMt6DOr"
      },
      "id": "UJxsdJMt6DOr"
    },
    {
      "cell_type": "code",
      "execution_count": null,
      "id": "a43b807e",
      "metadata": {
        "id": "a43b807e"
      },
      "outputs": [],
      "source": [
        "df = pd.read_csv('2019-Nov.csv', chunksize=100000)"
      ]
    },
    {
      "cell_type": "code",
      "execution_count": null,
      "id": "08536df9",
      "metadata": {
        "id": "08536df9",
        "outputId": "dee71544-5d28-45f9-b3af-653687a626a1",
        "colab": {
          "base_uri": "https://localhost:8080/"
        }
      },
      "outputs": [
        {
          "output_type": "stream",
          "name": "stderr",
          "text": [
            "<ipython-input-30-4a6757a265a1>:5: SettingWithCopyWarning: \n",
            "A value is trying to be set on a copy of a slice from a DataFrame.\n",
            "Try using .loc[row_indexer,col_indexer] = value instead\n",
            "\n",
            "See the caveats in the documentation: https://pandas.pydata.org/pandas-docs/stable/user_guide/indexing.html#returning-a-view-versus-a-copy\n",
            "  details['count'] = 1\n"
          ]
        }
      ],
      "source": [
        "output = pd.DataFrame()\n",
        "for chunk in df:\n",
        "    categories = ['brand','category_code','event_type']\n",
        "    details = chunk[categories]\n",
        "    details['count'] = 1\n",
        "    summary = details.groupby(categories).sum().reset_index()\n",
        "    output = output.append(summary, ignore_index=True)"
      ]
    },
    {
      "cell_type": "code",
      "execution_count": null,
      "id": "3095a991",
      "metadata": {
        "id": "3095a991"
      },
      "outputs": [],
      "source": [
        "final_output = output.groupby(categories).sum().reset_index()"
      ]
    },
    {
      "cell_type": "code",
      "execution_count": null,
      "id": "bf759d7a",
      "metadata": {
        "id": "bf759d7a"
      },
      "outputs": [],
      "source": [
        "final_output.to_csv('aggregated-consumer-info-2019-Nov.csv', index=False)"
      ]
    }
  ],
  "metadata": {
    "kernelspec": {
      "display_name": "Python 3 (ipykernel)",
      "language": "python",
      "name": "python3"
    },
    "language_info": {
      "codemirror_mode": {
        "name": "ipython",
        "version": 3
      },
      "file_extension": ".py",
      "mimetype": "text/x-python",
      "name": "python",
      "nbconvert_exporter": "python",
      "pygments_lexer": "ipython3",
      "version": "3.8.10"
    },
    "colab": {
      "provenance": []
    }
  },
  "nbformat": 4,
  "nbformat_minor": 5
}